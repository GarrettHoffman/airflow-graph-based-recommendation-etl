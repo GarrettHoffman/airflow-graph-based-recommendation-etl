{
 "cells": [
  {
   "cell_type": "code",
   "execution_count": 1,
   "metadata": {},
   "outputs": [],
   "source": [
    "import json\n",
    "import pandas as pd\n",
    "import numpy as np\n",
    "import itertools as it"
   ]
  },
  {
   "cell_type": "markdown",
   "metadata": {},
   "source": [
    "#### Users Extract"
   ]
  },
  {
   "cell_type": "code",
   "execution_count": 2,
   "metadata": {},
   "outputs": [],
   "source": [
    "# load data\n",
    "users = pd.read_csv(\"../data/stocktwits_users.csv\")"
   ]
  },
  {
   "cell_type": "code",
   "execution_count": 3,
   "metadata": {},
   "outputs": [
    {
     "data": {
      "text/plain": [
       "5000"
      ]
     },
     "execution_count": 3,
     "metadata": {},
     "output_type": "execute_result"
    }
   ],
   "source": [
    "# check out number of records\n",
    "len(users)"
   ]
  },
  {
   "cell_type": "code",
   "execution_count": 4,
   "metadata": {},
   "outputs": [
    {
     "data": {
      "text/html": [
       "<div>\n",
       "<style scoped>\n",
       "    .dataframe tbody tr th:only-of-type {\n",
       "        vertical-align: middle;\n",
       "    }\n",
       "\n",
       "    .dataframe tbody tr th {\n",
       "        vertical-align: top;\n",
       "    }\n",
       "\n",
       "    .dataframe thead th {\n",
       "        text-align: right;\n",
       "    }\n",
       "</style>\n",
       "<table border=\"1\" class=\"dataframe\">\n",
       "  <thead>\n",
       "    <tr style=\"text-align: right;\">\n",
       "      <th></th>\n",
       "      <th>id</th>\n",
       "      <th>username</th>\n",
       "      <th>experience</th>\n",
       "      <th>approach</th>\n",
       "      <th>holding_period</th>\n",
       "      <th>assets_traded</th>\n",
       "    </tr>\n",
       "  </thead>\n",
       "  <tbody>\n",
       "    <tr>\n",
       "      <th>0</th>\n",
       "      <td>1</td>\n",
       "      <td>trustingPonie5</td>\n",
       "      <td>Novice</td>\n",
       "      <td>Growth</td>\n",
       "      <td>Position Trader</td>\n",
       "      <td>Equities</td>\n",
       "    </tr>\n",
       "    <tr>\n",
       "      <th>1</th>\n",
       "      <td>2</td>\n",
       "      <td>dreadfulZebra2</td>\n",
       "      <td>Novice</td>\n",
       "      <td>Technical</td>\n",
       "      <td>Position Trader</td>\n",
       "      <td>Bonds,Futures</td>\n",
       "    </tr>\n",
       "    <tr>\n",
       "      <th>2</th>\n",
       "      <td>3</td>\n",
       "      <td>annoyedOwl0</td>\n",
       "      <td>Intermediate</td>\n",
       "      <td>Fundamental</td>\n",
       "      <td>Position Trader</td>\n",
       "      <td>Forex,Bonds,Equities</td>\n",
       "    </tr>\n",
       "    <tr>\n",
       "      <th>3</th>\n",
       "      <td>4</td>\n",
       "      <td>abjectVenison8</td>\n",
       "      <td>Experienced</td>\n",
       "      <td>Growth</td>\n",
       "      <td>Position Trader</td>\n",
       "      <td>Futures,Equities,Options</td>\n",
       "    </tr>\n",
       "    <tr>\n",
       "      <th>4</th>\n",
       "      <td>5</td>\n",
       "      <td>decimalGatorade0</td>\n",
       "      <td>Intermediate</td>\n",
       "      <td>Technical</td>\n",
       "      <td>Position Trader</td>\n",
       "      <td>Private Companies</td>\n",
       "    </tr>\n",
       "  </tbody>\n",
       "</table>\n",
       "</div>"
      ],
      "text/plain": [
       "   id          username    experience     approach   holding_period  \\\n",
       "0   1    trustingPonie5        Novice       Growth  Position Trader   \n",
       "1   2    dreadfulZebra2        Novice    Technical  Position Trader   \n",
       "2   3       annoyedOwl0  Intermediate  Fundamental  Position Trader   \n",
       "3   4    abjectVenison8   Experienced       Growth  Position Trader   \n",
       "4   5  decimalGatorade0  Intermediate    Technical  Position Trader   \n",
       "\n",
       "              assets_traded  \n",
       "0                  Equities  \n",
       "1             Bonds,Futures  \n",
       "2      Forex,Bonds,Equities  \n",
       "3  Futures,Equities,Options  \n",
       "4         Private Companies  "
      ]
     },
     "execution_count": 4,
     "metadata": {},
     "output_type": "execute_result"
    }
   ],
   "source": [
    "# exampine first few rows\n",
    "users.head()"
   ]
  },
  {
   "cell_type": "code",
   "execution_count": 5,
   "metadata": {},
   "outputs": [
    {
     "data": {
      "text/plain": [
       "id                 int64\n",
       "username          object\n",
       "experience        object\n",
       "approach          object\n",
       "holding_period    object\n",
       "assets_traded     object\n",
       "dtype: object"
      ]
     },
     "execution_count": 5,
     "metadata": {},
     "output_type": "execute_result"
    }
   ],
   "source": [
    "# check data types\n",
    "users.dtypes"
   ]
  },
  {
   "cell_type": "code",
   "execution_count": 6,
   "metadata": {},
   "outputs": [
    {
     "data": {
      "text/plain": [
       "id                0\n",
       "username          0\n",
       "experience        0\n",
       "approach          0\n",
       "holding_period    0\n",
       "assets_traded     0\n",
       "dtype: int64"
      ]
     },
     "execution_count": 6,
     "metadata": {},
     "output_type": "execute_result"
    }
   ],
   "source": [
    "# check if any columns have null values\n",
    "np.sum(users.isnull(), axis=0)"
   ]
  },
  {
   "cell_type": "code",
   "execution_count": 7,
   "metadata": {},
   "outputs": [
    {
     "data": {
      "text/plain": [
       "array(['Novice', 'Intermediate', 'Experienced'], dtype=object)"
      ]
     },
     "execution_count": 7,
     "metadata": {},
     "output_type": "execute_result"
    }
   ],
   "source": [
    "# check distinct experience values\n",
    "users.experience.unique()"
   ]
  },
  {
   "cell_type": "code",
   "execution_count": 8,
   "metadata": {},
   "outputs": [
    {
     "data": {
      "text/plain": [
       "array(['Growth', 'Technical', 'Fundamental', 'Value', 'Global Macro',\n",
       "       'Momentum'], dtype=object)"
      ]
     },
     "execution_count": 8,
     "metadata": {},
     "output_type": "execute_result"
    }
   ],
   "source": [
    "# check distinct approach values\n",
    "users.approach.unique()"
   ]
  },
  {
   "cell_type": "code",
   "execution_count": 9,
   "metadata": {},
   "outputs": [
    {
     "data": {
      "text/plain": [
       "array(['Position Trader', 'Long Term Investor', 'Day Trader',\n",
       "       'Swing Trader'], dtype=object)"
      ]
     },
     "execution_count": 9,
     "metadata": {},
     "output_type": "execute_result"
    }
   ],
   "source": [
    "# check dinstinct holding_period values\n",
    "users.holding_period.unique()"
   ]
  },
  {
   "cell_type": "code",
   "execution_count": 10,
   "metadata": {},
   "outputs": [
    {
     "data": {
      "text/plain": [
       "array(['Equities', 'Bonds,Futures', 'Forex,Bonds,Equities',\n",
       "       'Futures,Equities,Options', 'Private Companies',\n",
       "       'Futures,Bonds,Options', 'Bonds,Private Companies,Options',\n",
       "       'Futures', 'Futures,Private Companies,Equities', 'Forex,Bonds',\n",
       "       'Forex,Futures', 'Private Companies,Bonds,Futures',\n",
       "       'Forex,Private Companies,Bonds', 'Forex', 'Equities,Futures,Forex',\n",
       "       'Equities,Forex,Private Companies',\n",
       "       'Private Companies,Bonds,Equities', 'Futures,Options', 'Bonds',\n",
       "       'Futures,Bonds,Equities', 'Bonds,Forex,Futures', 'Forex,Options',\n",
       "       'Equities,Futures,Options', 'Equities,Private Companies',\n",
       "       'Bonds,Futures,Forex', 'Options,Equities', 'Options',\n",
       "       'Private Companies,Bonds', 'Private Companies,Equities',\n",
       "       'Options,Forex,Futures', 'Equities,Options',\n",
       "       'Forex,Private Companies', 'Private Companies,Options',\n",
       "       'Forex,Equities,Bonds', 'Equities,Options,Bonds',\n",
       "       'Options,Equities,Futures', 'Equities,Bonds',\n",
       "       'Options,Bonds,Private Companies', 'Forex,Options,Equities',\n",
       "       'Futures,Private Companies,Options', 'Futures,Equities',\n",
       "       'Private Companies,Futures', 'Futures,Forex',\n",
       "       'Bonds,Equities,Futures', 'Options,Forex,Private Companies',\n",
       "       'Private Companies,Forex,Futures', 'Forex,Futures,Equities',\n",
       "       'Forex,Private Companies,Options', 'Private Companies,Forex',\n",
       "       'Forex,Equities,Futures', 'Bonds,Forex,Equities',\n",
       "       'Bonds,Equities,Options', 'Options,Private Companies',\n",
       "       'Bonds,Equities,Private Companies', 'Equities,Forex,Bonds',\n",
       "       'Forex,Options,Bonds', 'Options,Futures', 'Bonds,Forex',\n",
       "       'Futures,Private Companies', 'Options,Equities,Forex',\n",
       "       'Forex,Options,Futures', 'Options,Forex,Equities',\n",
       "       'Private Companies,Forex,Bonds',\n",
       "       'Equities,Private Companies,Options', 'Bonds,Options',\n",
       "       'Futures,Bonds', 'Private Companies,Futures,Options',\n",
       "       'Private Companies,Equities,Futures',\n",
       "       'Futures,Forex,Private Companies',\n",
       "       'Equities,Options,Private Companies', 'Futures,Forex,Equities',\n",
       "       'Options,Private Companies,Forex', 'Equities,Options,Forex',\n",
       "       'Private Companies,Equities,Bonds',\n",
       "       'Private Companies,Options,Equities',\n",
       "       'Private Companies,Futures,Bonds',\n",
       "       'Forex,Private Companies,Equities', 'Equities,Forex',\n",
       "       'Futures,Forex,Bonds', 'Equities,Futures', 'Bonds,Options,Futures',\n",
       "       'Bonds,Private Companies', 'Options,Futures,Private Companies',\n",
       "       'Bonds,Options,Equities', 'Options,Futures,Forex',\n",
       "       'Futures,Options,Forex', 'Equities,Options,Futures',\n",
       "       'Options,Futures,Bonds', 'Forex,Bonds,Options',\n",
       "       'Forex,Bonds,Futures', 'Forex,Private Companies,Futures',\n",
       "       'Equities,Private Companies,Forex',\n",
       "       'Bonds,Private Companies,Forex', 'Bonds,Forex,Options',\n",
       "       'Equities,Futures,Private Companies', 'Futures,Forex,Options',\n",
       "       'Forex,Bonds,Private Companies', 'Forex,Equities',\n",
       "       'Futures,Equities,Forex', 'Options,Equities,Bonds',\n",
       "       'Bonds,Equities', 'Private Companies,Options,Futures',\n",
       "       'Private Companies,Bonds,Options',\n",
       "       'Private Companies,Options,Forex', 'Options,Bonds,Equities',\n",
       "       'Futures,Options,Private Companies', 'Options,Futures,Equities',\n",
       "       'Options,Bonds', 'Equities,Bonds,Private Companies',\n",
       "       'Forex,Futures,Bonds', 'Futures,Options,Equities',\n",
       "       'Equities,Private Companies,Bonds', 'Equities,Forex,Options',\n",
       "       'Options,Forex,Bonds', 'Private Companies,Forex,Equities',\n",
       "       'Bonds,Forex,Private Companies', 'Equities,Forex,Futures',\n",
       "       'Equities,Bonds,Futures', 'Bonds,Options,Forex',\n",
       "       'Equities,Bonds,Options', 'Bonds,Options,Private Companies',\n",
       "       'Private Companies,Futures,Forex',\n",
       "       'Futures,Equities,Private Companies',\n",
       "       'Private Companies,Futures,Equities',\n",
       "       'Equities,Private Companies,Futures', 'Options,Forex',\n",
       "       'Options,Bonds,Futures', 'Futures,Private Companies,Forex',\n",
       "       'Private Companies,Forex,Options',\n",
       "       'Forex,Futures,Private Companies', 'Equities,Futures,Bonds',\n",
       "       'Bonds,Private Companies,Equities',\n",
       "       'Private Companies,Equities,Options',\n",
       "       'Options,Equities,Private Companies',\n",
       "       'Futures,Bonds,Private Companies',\n",
       "       'Options,Private Companies,Equities',\n",
       "       'Bonds,Private Companies,Futures', 'Futures,Bonds,Forex',\n",
       "       'Options,Private Companies,Futures', 'Bonds,Futures,Options',\n",
       "       'Options,Bonds,Forex', 'Futures,Private Companies,Bonds',\n",
       "       'Equities,Bonds,Forex', 'Forex,Options,Private Companies',\n",
       "       'Private Companies,Options,Bonds',\n",
       "       'Forex,Equities,Private Companies', 'Futures,Options,Bonds',\n",
       "       'Bonds,Futures,Equities', 'Bonds,Equities,Forex',\n",
       "       'Options,Private Companies,Bonds', 'Futures,Equities,Bonds',\n",
       "       'Forex,Futures,Options', 'Private Companies,Equities,Forex',\n",
       "       'Private Companies,Bonds,Forex', 'Bonds,Futures,Private Companies',\n",
       "       'Forex,Equities,Options'], dtype=object)"
      ]
     },
     "execution_count": 10,
     "metadata": {},
     "output_type": "execute_result"
    }
   ],
   "source": [
    "# check unique asset_traded values\n",
    "users.assets_traded.unique()"
   ]
  },
  {
   "cell_type": "code",
   "execution_count": 11,
   "metadata": {},
   "outputs": [
    {
     "data": {
      "text/plain": [
       "{'Bonds', 'Equities', 'Forex', 'Futures', 'Options', 'Private Companies'}"
      ]
     },
     "execution_count": 11,
     "metadata": {},
     "output_type": "execute_result"
    }
   ],
   "source": [
    "# We will probably want to split these out into unique indicator columns\n",
    "set([asset for asset in it.chain.from_iterable([assets.split(\",\") for assets in users.assets_traded.unique()])])"
   ]
  },
  {
   "cell_type": "markdown",
   "metadata": {},
   "source": [
    "#### Rooms Extract"
   ]
  },
  {
   "cell_type": "code",
   "execution_count": 12,
   "metadata": {},
   "outputs": [],
   "source": [
    "# load data\n",
    "rooms = pd.read_csv(\"../data/stocktwits_rooms.csv\")"
   ]
  },
  {
   "cell_type": "code",
   "execution_count": 13,
   "metadata": {},
   "outputs": [
    {
     "data": {
      "text/plain": [
       "1000"
      ]
     },
     "execution_count": 13,
     "metadata": {},
     "output_type": "execute_result"
    }
   ],
   "source": [
    "# check out number of rooms\n",
    "len(rooms)"
   ]
  },
  {
   "cell_type": "code",
   "execution_count": 14,
   "metadata": {},
   "outputs": [
    {
     "data": {
      "text/html": [
       "<div>\n",
       "<style scoped>\n",
       "    .dataframe tbody tr th:only-of-type {\n",
       "        vertical-align: middle;\n",
       "    }\n",
       "\n",
       "    .dataframe tbody tr th {\n",
       "        vertical-align: top;\n",
       "    }\n",
       "\n",
       "    .dataframe thead th {\n",
       "        text-align: right;\n",
       "    }\n",
       "</style>\n",
       "<table border=\"1\" class=\"dataframe\">\n",
       "  <thead>\n",
       "    <tr style=\"text-align: right;\">\n",
       "      <th></th>\n",
       "      <th>id</th>\n",
       "      <th>slug</th>\n",
       "      <th>topics</th>\n",
       "    </tr>\n",
       "  </thead>\n",
       "  <tbody>\n",
       "    <tr>\n",
       "      <th>0</th>\n",
       "      <td>1</td>\n",
       "      <td>Help</td>\n",
       "      <td>Non-Market Talk</td>\n",
       "    </tr>\n",
       "    <tr>\n",
       "      <th>1</th>\n",
       "      <td>2</td>\n",
       "      <td>Stocktwits</td>\n",
       "      <td>Long Term Investing</td>\n",
       "    </tr>\n",
       "    <tr>\n",
       "      <th>2</th>\n",
       "      <td>3</td>\n",
       "      <td>AskJustin</td>\n",
       "      <td>Non-Market Talk</td>\n",
       "    </tr>\n",
       "    <tr>\n",
       "      <th>3</th>\n",
       "      <td>4</td>\n",
       "      <td>MarketConspiracies</td>\n",
       "      <td>Education</td>\n",
       "    </tr>\n",
       "    <tr>\n",
       "      <th>4</th>\n",
       "      <td>5</td>\n",
       "      <td>quantnews</td>\n",
       "      <td>Quant</td>\n",
       "    </tr>\n",
       "  </tbody>\n",
       "</table>\n",
       "</div>"
      ],
      "text/plain": [
       "   id                slug               topics\n",
       "0   1                Help      Non-Market Talk\n",
       "1   2          Stocktwits  Long Term Investing\n",
       "2   3           AskJustin      Non-Market Talk\n",
       "3   4  MarketConspiracies            Education\n",
       "4   5           quantnews                Quant"
      ]
     },
     "execution_count": 14,
     "metadata": {},
     "output_type": "execute_result"
    }
   ],
   "source": [
    "# exampine first few rows\n",
    "rooms.head()"
   ]
  },
  {
   "cell_type": "code",
   "execution_count": 15,
   "metadata": {},
   "outputs": [
    {
     "data": {
      "text/plain": [
       "id                 int64\n",
       "username          object\n",
       "experience        object\n",
       "approach          object\n",
       "holding_period    object\n",
       "assets_traded     object\n",
       "dtype: object"
      ]
     },
     "execution_count": 15,
     "metadata": {},
     "output_type": "execute_result"
    }
   ],
   "source": [
    "# check data types\n",
    "users.dtypes"
   ]
  },
  {
   "cell_type": "code",
   "execution_count": 16,
   "metadata": {},
   "outputs": [
    {
     "data": {
      "text/plain": [
       "id        0\n",
       "slug      0\n",
       "topics    0\n",
       "dtype: int64"
      ]
     },
     "execution_count": 16,
     "metadata": {},
     "output_type": "execute_result"
    }
   ],
   "source": [
    "# check if any columns have null values\n",
    "np.sum(rooms.isnull(), axis=0)"
   ]
  },
  {
   "cell_type": "code",
   "execution_count": 17,
   "metadata": {
    "scrolled": true
   },
   "outputs": [
    {
     "data": {
      "text/plain": [
       "array(['Non-Market Talk', 'Long Term Investing', 'Education', 'Quant',\n",
       "       'Long Term Investing,Non-Market Talk,Green Energy',\n",
       "       'Technology,Fundamentals', 'Education,Quant,Non-Market Talk',\n",
       "       'Day Trading,Swing Trading,Education',\n",
       "       'Swing Trading,Momentum Trading',\n",
       "       'Day Trading,Swing Trading,Technicals', 'Cryptocurrencies',\n",
       "       'Swing Trading,Biotechnology,Technicals',\n",
       "       'Day Trading,Momentum Trading,Education',\n",
       "       'Futures,Cryptocurrencies,Day Trading',\n",
       "       'Long Term Investing,Fundamentals,Personal Finance', 'Technology',\n",
       "       'Education,Technicals', 'ETFs',\n",
       "       'Day Trading,Swing Trading,Momentum Trading',\n",
       "       'Options,Swing Trading,Technicals', 'Swing Trading,Education',\n",
       "       'Cryptocurrencies,Technology,Technicals', 'Swing Trading',\n",
       "       'Day Trading,Momentum Trading,Non-Market Talk',\n",
       "       'Day Trading,Long Term Investing,Technology', 'Day Trading',\n",
       "       'Futures,Options,Technicals',\n",
       "       'Long Term Investing,Momentum Trading,Fundamentals',\n",
       "       'Education,Non-Market Talk,News',\n",
       "       'Cryptocurrencies,Technology,News', 'Momentum Trading', 'News',\n",
       "       'Day Trading,Non-Market Talk', 'Futures,Day Trading', 'Equities',\n",
       "       'Biotechnology', 'Global Macro,Technology,News',\n",
       "       'Options,Day Trading,Education', 'Non-Market Talk,News', 'Futures',\n",
       "       'Technicals', 'Swing Trading,Momentum Trading,Equities',\n",
       "       'Swing Trading,Education,ETFs',\n",
       "       'Cryptocurrencies,Options,Day Trading',\n",
       "       'Cryptocurrencies,Day Trading,Swing Trading',\n",
       "       'Options,Equities,Non-Market Talk', 'Day Trading,Momentum Trading',\n",
       "       'Long Term Investing,Personal Finance',\n",
       "       'Options,Swing Trading,Equities',\n",
       "       'Day Trading,Swing Trading,Biotechnology', 'Day Trading,Education',\n",
       "       'Global Macro', 'Options,Day Trading,Momentum Trading',\n",
       "       'Day Trading,Biotechnology',\n",
       "       'Day Trading,Technology,Biotechnology',\n",
       "       'Swing Trading,Personal Finance', 'Day Trading,Education,Equities',\n",
       "       'Equities,Fundamentals', 'Global Macro,Technicals',\n",
       "       'Options,Day Trading,ETFs', 'Options,Day Trading,Swing Trading',\n",
       "       'Options', 'Futures,Long Term Investing,Equities',\n",
       "       'Day Trading,Swing Trading', 'Futures,Swing Trading,Quant',\n",
       "       'Personal Finance', 'Cryptocurrencies,Options,Technicals',\n",
       "       'Day Trading,Momentum Trading,Technicals',\n",
       "       'Long Term Investing,Momentum Trading,Technology',\n",
       "       'Long Term Investing,Education,Technicals', 'Options,Technology',\n",
       "       'Options,Technicals', 'Cryptocurrencies,Long Term Investing',\n",
       "       'Long Term Investing,Technology,Biotechnology',\n",
       "       'Swing Trading,Fundamentals,Technicals',\n",
       "       'Cryptocurrencies,Education,Technology',\n",
       "       'Futures,Options,Day Trading', 'Options,Day Trading,Equities',\n",
       "       'Long Term Investing,Global Macro,Fundamentals',\n",
       "       'Long Term Investing,Biotechnology',\n",
       "       'Day Trading,Swing Trading,Long Term Investing',\n",
       "       'Long Term Investing,Technology,News',\n",
       "       'Cryptocurrencies,Swing Trading,Technicals',\n",
       "       'Day Trading,Momentum Trading,Equities',\n",
       "       'Biotechnology,Fundamentals', 'Fundamentals',\n",
       "       'Cryptocurrencies,Long Term Investing,News',\n",
       "       'Swing Trading,Momentum Trading,Technicals',\n",
       "       'Forex,Cryptocurrencies,Precious Metals', 'Equities,Technicals',\n",
       "       'Equities,Biotechnology,Technicals',\n",
       "       'Equities,Technology,Biotechnology',\n",
       "       'Day Trading,Momentum Trading,News', 'Futures,Fundamentals,Energy',\n",
       "       'Swing Trading,Momentum Trading,Biotechnology',\n",
       "       'Long Term Investing,Equities,Fundamentals',\n",
       "       'Long Term Investing,Fundamentals', 'Long Term Investing,Equities',\n",
       "       'Options,Momentum Trading,Technicals',\n",
       "       'Long Term Investing,Education,Fundamentals',\n",
       "       'Day Trading,Technology,Non-Market Talk',\n",
       "       'Equities,Fundamentals,News',\n",
       "       'Swing Trading,Technology,Technicals',\n",
       "       'Long Term Investing,Momentum Trading',\n",
       "       'Global Macro,Precious Metals,Energy', 'Options,Equities,ETFs',\n",
       "       'Cryptocurrencies,Day Trading,Education',\n",
       "       'Options,Swing Trading,Momentum Trading',\n",
       "       'Global Macro,Fundamentals,Technicals',\n",
       "       'Biotechnology,Fundamentals,Technicals',\n",
       "       'Long Term Investing,Technology', 'Long Term Investing,ETFs',\n",
       "       'Equities,Fundamentals,Technicals', 'Day Trading,Fundamentals',\n",
       "       'Education,News', 'Long Term Investing,Global Macro,Technology',\n",
       "       'Swing Trading,Technicals',\n",
       "       'Technology,Non-Market Talk,Personal Finance',\n",
       "       'Options,Equities,Technicals',\n",
       "       'Day Trading,Swing Trading,Equities',\n",
       "       'Futures,Options,Global Macro',\n",
       "       'Swing Trading,Long Term Investing,Technicals',\n",
       "       'Day Trading,Swing Trading,Technology',\n",
       "       'Swing Trading,Education,Fundamentals',\n",
       "       'Momentum Trading,Equities,ETFs',\n",
       "       'Day Trading,Long Term Investing,Education',\n",
       "       'Futures,Options,ETFs', 'Options,Day Trading',\n",
       "       'Momentum Trading,Equities,Quant', 'Equities,Quant',\n",
       "       'Momentum Trading,News', 'Momentum Trading,Fundamentals',\n",
       "       'Education,Technology,Fundamentals',\n",
       "       'Swing Trading,Long Term Investing,Fundamentals',\n",
       "       'Day Trading,Technology', 'Equities,Fundamentals,Quant',\n",
       "       'Technicals,News', 'Long Term Investing,Technology,Fundamentals',\n",
       "       'Equities,News', 'Education,Equities',\n",
       "       'Technology,Fundamentals,Personal Finance',\n",
       "       'Global Macro,Education,Non-Market Talk',\n",
       "       'Futures,Day Trading,Energy', 'Options,Education,Technicals',\n",
       "       'Cryptocurrencies,Day Trading', 'Global Macro,News',\n",
       "       'Options,ETFs', 'Long Term Investing,Technology,Non-Market Talk',\n",
       "       'Day Trading,Equities,Fundamentals',\n",
       "       'Long Term Investing,Education,Personal Finance',\n",
       "       'Day Trading,Education,Technology',\n",
       "       'Swing Trading,Non-Market Talk,Personal Finance',\n",
       "       'Education,Biotechnology,Energy', 'Options,Day Trading,Technology',\n",
       "       'Swing Trading,Education,Technicals',\n",
       "       'Day Trading,Equities,Personal Finance',\n",
       "       'Futures,Forex,Precious Metals', 'Forex,Day Trading,Energy',\n",
       "       'Day Trading,Equities', 'News,Green Energy',\n",
       "       'Swing Trading,Long Term Investing,Momentum Trading',\n",
       "       'Cryptocurrencies,Long Term Investing,Fundamentals',\n",
       "       'Options,Day Trading,Technicals', 'Options,Swing Trading',\n",
       "       'Long Term Investing,News', 'Education,Personal Finance',\n",
       "       'Swing Trading,Fundamentals,ETFs',\n",
       "       'Forex,Day Trading,Swing Trading',\n",
       "       'Cryptocurrencies,Long Term Investing,Non-Market Talk',\n",
       "       'Swing Trading,Global Macro,Fundamentals',\n",
       "       'Long Term Investing,Quant',\n",
       "       'Options,Day Trading,Long Term Investing',\n",
       "       'Long Term Investing,Momentum Trading,Non-Market Talk',\n",
       "       'Day Trading,Swing Trading,Fundamentals',\n",
       "       'Education,Equities,Non-Market Talk',\n",
       "       'Momentum Trading,Education,Technicals',\n",
       "       'Non-Market Talk,News,Personal Finance',\n",
       "       'Options,Long Term Investing,Education',\n",
       "       'Options,Education,Fundamentals', 'Day Trading,Technology,Quant',\n",
       "       'Precious Metals', 'Energy',\n",
       "       'Cryptocurrencies,Fundamentals,Technicals',\n",
       "       'Technology,Fundamentals,Quant',\n",
       "       'Swing Trading,Momentum Trading,Quant', 'Options,ETFs,News',\n",
       "       'Momentum Trading,Equities,Fundamentals', 'Cryptocurrencies,ETFs',\n",
       "       'Options,Equities,News', 'Options,Momentum Trading',\n",
       "       'Day Trading,Fundamentals,Technicals',\n",
       "       'Long Term Investing,Momentum Trading,Equities',\n",
       "       'Cryptocurrencies,Day Trading,Technicals',\n",
       "       'Day Trading,Education,Technicals', 'Day Trading,Equities,News',\n",
       "       'Options,Long Term Investing',\n",
       "       'Swing Trading,Momentum Trading,News',\n",
       "       'Equities,ETFs,Personal Finance',\n",
       "       'Day Trading,Long Term Investing,Personal Finance',\n",
       "       'Day Trading,ETFs', 'Momentum Trading,Technicals,ETFs',\n",
       "       'Day Trading,Technicals,News', 'Forex', 'Day Trading,News',\n",
       "       'Day Trading,Swing Trading,News',\n",
       "       'Precious Metals,Non-Market Talk', 'Cryptocurrencies,Fundamentals',\n",
       "       'Futures,Day Trading,Global Macro',\n",
       "       'Cryptocurrencies,Day Trading,Technology',\n",
       "       'Day Trading,Non-Market Talk,News',\n",
       "       'Long Term Investing,Technicals,News',\n",
       "       'Long Term Investing,Equities,Technicals',\n",
       "       'Day Trading,News,Personal Finance', 'Swing Trading,Equities,ETFs',\n",
       "       'Momentum Trading,Education,Biotechnology',\n",
       "       'Cryptocurrencies,Long Term Investing,Technology',\n",
       "       'Cryptocurrencies,Day Trading,Energy', 'Forex,Technicals',\n",
       "       'Education,Technology', 'Futures,Quant',\n",
       "       'Day Trading,Momentum Trading,Technology',\n",
       "       'Momentum Trading,Equities,Technicals',\n",
       "       'Options,Swing Trading,Personal Finance',\n",
       "       'Long Term Investing,News,Personal Finance',\n",
       "       'Momentum Trading,Fundamentals,Technicals',\n",
       "       'Cryptocurrencies,Day Trading,Long Term Investing',\n",
       "       'Day Trading,Equities,Technicals',\n",
       "       'Day Trading,Long Term Investing,Momentum Trading',\n",
       "       'Long Term Investing,Equities,Energy', 'Day Trading,Technicals',\n",
       "       'Cryptocurrencies,Technology,Biotechnology',\n",
       "       'Swing Trading,Long Term Investing,Equities',\n",
       "       'Day Trading,Long Term Investing,News', 'Swing Trading,Equities',\n",
       "       'Long Term Investing,Education,Quant',\n",
       "       'Futures,Day Trading,Technicals',\n",
       "       'Global Macro,Education,Personal Finance',\n",
       "       'Swing Trading,Equities,News',\n",
       "       'Long Term Investing,Education,News', 'Long Term Investing,Energy',\n",
       "       'Technology,Biotechnology',\n",
       "       'Cryptocurrencies,Day Trading,Biotechnology',\n",
       "       'Day Trading,Long Term Investing',\n",
       "       'Global Macro,Education,Technology',\n",
       "       'Cryptocurrencies,Education,Biotechnology',\n",
       "       'Global Macro,Fundamentals,Precious Metals', 'Equities,ETFs',\n",
       "       'Long Term Investing,Momentum Trading,Biotechnology',\n",
       "       'Cryptocurrencies,Equities,ETFs',\n",
       "       'Long Term Investing,Fundamentals,Technicals',\n",
       "       'Futures,Swing Trading,Technicals',\n",
       "       'Options,Education,Biotechnology', 'Technology,ETFs,Energy',\n",
       "       'Options,Swing Trading,Education', 'Education,Equities,Technicals',\n",
       "       'Momentum Trading,Fundamentals,Personal Finance',\n",
       "       'Equities,Technology,ETFs',\n",
       "       'Day Trading,Momentum Trading,Personal Finance',\n",
       "       'Long Term Investing,Equities,ETFs', 'Options,Day Trading,News',\n",
       "       'Momentum Trading,Technicals',\n",
       "       'Education,Fundamentals,Personal Finance',\n",
       "       'Global Macro,Equities,Technicals',\n",
       "       'Day Trading,Long Term Investing,Biotechnology',\n",
       "       'Cryptocurrencies,Swing Trading,Biotechnology',\n",
       "       'Biotechnology,Energy,Green Energy', 'Green Energy',\n",
       "       'Futures,Day Trading,Swing Trading',\n",
       "       'Day Trading,Biotechnology,Fundamentals', 'Fundamentals,News',\n",
       "       'Options,Technology,Personal Finance', 'Precious Metals,News',\n",
       "       'Options,Swing Trading,Technology',\n",
       "       'Swing Trading,Equities,Fundamentals', 'Options,Technicals,Energy',\n",
       "       'Swing Trading,Technicals,Quant',\n",
       "       'Options,Swing Trading,Fundamentals',\n",
       "       'Cryptocurrencies,Momentum Trading,Education',\n",
       "       'Options,Long Term Investing,Fundamentals'], dtype=object)"
      ]
     },
     "execution_count": 17,
     "metadata": {},
     "output_type": "execute_result"
    }
   ],
   "source": [
    "# check distinct topic values\n",
    "rooms.topics.unique()"
   ]
  },
  {
   "cell_type": "code",
   "execution_count": 18,
   "metadata": {
    "scrolled": false
   },
   "outputs": [
    {
     "data": {
      "text/plain": [
       "{'Biotechnology',\n",
       " 'Cryptocurrencies',\n",
       " 'Day Trading',\n",
       " 'ETFs',\n",
       " 'Education',\n",
       " 'Energy',\n",
       " 'Equities',\n",
       " 'Forex',\n",
       " 'Fundamentals',\n",
       " 'Futures',\n",
       " 'Global Macro',\n",
       " 'Green Energy',\n",
       " 'Long Term Investing',\n",
       " 'Momentum Trading',\n",
       " 'News',\n",
       " 'Non-Market Talk',\n",
       " 'Options',\n",
       " 'Personal Finance',\n",
       " 'Precious Metals',\n",
       " 'Quant',\n",
       " 'Swing Trading',\n",
       " 'Technicals',\n",
       " 'Technology'}"
      ]
     },
     "execution_count": 18,
     "metadata": {},
     "output_type": "execute_result"
    }
   ],
   "source": [
    "# We will probably want to split these out into unique indicator columns\n",
    "set([topic for topic in it.chain.from_iterable([topics.split(\",\") for topics in rooms.topics.unique()])])"
   ]
  },
  {
   "cell_type": "markdown",
   "metadata": {},
   "source": [
    "#### Activity Data"
   ]
  },
  {
   "cell_type": "code",
   "execution_count": 19,
   "metadata": {},
   "outputs": [
    {
     "name": "stdout",
     "output_type": "stream",
     "text": [
      "1209379\n"
     ]
    }
   ],
   "source": [
    "# check out number of records\n",
    "i = 0\n",
    "with open(\"../data/activity.json\", \"r\") as f:\n",
    "    for line in f.readlines():\n",
    "        i += 1\n",
    "        \n",
    "print(i)"
   ]
  },
  {
   "cell_type": "code",
   "execution_count": 20,
   "metadata": {},
   "outputs": [
    {
     "name": "stdout",
     "output_type": "stream",
     "text": [
      "{'action': 'like', 'user_id': 4768, 'message_id': 37304}\n",
      "{'action': 'like', 'user_id': 2970, 'message_id': 19257}\n",
      "{'action': 'subscribe', 'user_id': 4751, 'room_id': 487}\n",
      "{'action': 'like', 'user_id': 1285, 'message_id': 47238}\n",
      "{'action': 'like', 'user_id': 4699, 'message_id': 22290}\n",
      "{'action': 'like', 'user_id': 2984, 'message_id': 14710}\n",
      "{'action': 'like', 'user_id': 3621, 'message_id': 28280}\n",
      "{'action': 'like', 'user_id': 1114, 'message_id': 40779}\n",
      "{'action': 'message', 'message_id': 42235, 'user_id': 386, 'room_id': 833, 'mention_ids': ''}\n",
      "{'action': 'follow', 'user_id': 1531, 'following_user_id': 2744}\n",
      "{'action': 'follow', 'user_id': 1447, 'following_user_id': 3656}\n",
      "{'action': 'follow', 'user_id': 4051, 'following_user_id': 2529}\n",
      "{'action': 'like', 'user_id': 1427, 'message_id': 32042}\n",
      "{'action': 'follow', 'user_id': 1338, 'following_user_id': 3670}\n",
      "{'action': 'subscribe', 'user_id': 2990, 'room_id': 828}\n",
      "{'action': 'follow', 'user_id': 448, 'following_user_id': 2859}\n",
      "{'action': 'like', 'user_id': 99, 'message_id': 34515}\n",
      "{'action': 'follow', 'user_id': 1139, 'following_user_id': 2309}\n",
      "{'action': 'like', 'user_id': 2335, 'message_id': 47484}\n",
      "{'action': 'like', 'user_id': 2524, 'message_id': 35093}\n",
      "{'action': 'like', 'user_id': 3531, 'message_id': 26189}\n",
      "{'action': 'like', 'user_id': 1409, 'message_id': 732}\n",
      "{'action': 'follow', 'user_id': 4971, 'following_user_id': 3414}\n",
      "{'action': 'like', 'user_id': 997, 'message_id': 43920}\n",
      "{'action': 'follow', 'user_id': 3476, 'following_user_id': 1430}\n",
      "{'action': 'like', 'user_id': 2342, 'message_id': 17097}\n",
      "{'action': 'follow', 'user_id': 106, 'following_user_id': 2479}\n",
      "{'action': 'like', 'user_id': 4453, 'message_id': 35752}\n",
      "{'action': 'follow', 'user_id': 1620, 'following_user_id': 4407}\n",
      "{'action': 'follow', 'user_id': 1567, 'following_user_id': 1690}\n",
      "{'action': 'follow', 'user_id': 2198, 'following_user_id': 2487}\n",
      "{'action': 'like', 'user_id': 3141, 'message_id': 43571}\n",
      "{'action': 'like', 'user_id': 240, 'message_id': 12596}\n",
      "{'action': 'follow', 'user_id': 1435, 'following_user_id': 4735}\n",
      "{'action': 'like', 'user_id': 3248, 'message_id': 48210}\n",
      "{'action': 'follow', 'user_id': 2162, 'following_user_id': 1519}\n",
      "{'action': 'follow', 'user_id': 3459, 'following_user_id': 1945}\n",
      "{'action': 'follow', 'user_id': 4201, 'following_user_id': 4904}\n",
      "{'action': 'like', 'user_id': 1038, 'message_id': 45585}\n",
      "{'action': 'like', 'user_id': 2492, 'message_id': 32342}\n",
      "{'action': 'follow', 'user_id': 481, 'following_user_id': 2842}\n",
      "{'action': 'like', 'user_id': 434, 'message_id': 41422}\n",
      "{'action': 'like', 'user_id': 4420, 'message_id': 19646}\n",
      "{'action': 'follow', 'user_id': 4908, 'following_user_id': 4542}\n",
      "{'action': 'follow', 'user_id': 3709, 'following_user_id': 897}\n",
      "{'action': 'follow', 'user_id': 401, 'following_user_id': 3225}\n",
      "{'action': 'like', 'user_id': 3901, 'message_id': 21482}\n",
      "{'action': 'like', 'user_id': 4151, 'message_id': 6719}\n",
      "{'action': 'follow', 'user_id': 2187, 'following_user_id': 1645}\n",
      "{'action': 'like', 'user_id': 721, 'message_id': 40552}\n",
      "{'action': 'like', 'user_id': 3693, 'message_id': 23659}\n"
     ]
    }
   ],
   "source": [
    "## Print first 50 records from activity file\n",
    "i = 0\n",
    "with open(\"../data/activity.json\", \"r\") as f:\n",
    "    for line in f.readlines():\n",
    "        i += 1\n",
    "        print(json.loads(line))\n",
    "        if i > 50:\n",
    "            break"
   ]
  },
  {
   "cell_type": "code",
   "execution_count": null,
   "metadata": {},
   "outputs": [],
   "source": [
    "# all activities have an action indicated a follow, subscribe, message or like.\n",
    "# all activites contain the user_id field with the user id of the user who performed the action\n",
    "# the rest of the schema depends on the type of action:\n",
    "# follow has a following_user_id with the id of the user followed\n",
    "# subscribe has a room_id with the id of the room subscribed to\n",
    "# message has a room_id with the room posted in and the mention_ids of a comma separated list of users mentioned\n",
    "# like has a message_id with the id of the message that was liked"
   ]
  }
 ],
 "metadata": {
  "kernelspec": {
   "display_name": "Python 3",
   "language": "python",
   "name": "python3"
  },
  "language_info": {
   "codemirror_mode": {
    "name": "ipython",
    "version": 3
   },
   "file_extension": ".py",
   "mimetype": "text/x-python",
   "name": "python",
   "nbconvert_exporter": "python",
   "pygments_lexer": "ipython3",
   "version": "3.7.3"
  }
 },
 "nbformat": 4,
 "nbformat_minor": 2
}
